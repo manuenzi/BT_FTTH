{
 "cells": [
  {
   "cell_type": "markdown",
   "metadata": {},
   "source": [
    "Après plusieurs entretiens qui ont pour la majorité abouti à une mise en suspension du processsus de recrutement avec comme argument principale : \n",
    "\"Nous sommes très intéressés par votre profil mais malheureusement nous avons peu de missions pour le moment, nous vous recontactons dès que nous avons quelcque chose et de votre côté tenez-nous au courant si vous avez des propositions.\"\n",
    "\n",
    "Ayant atteint mon objectif personnel de renforcer mes compétences en python à un niveau proche de celui que j'ai en R (7 ans d'expérience) grâce notamment aux deux livres suivants:\n",
    "\n",
    "1. Apprendre à programmer en python\n",
    "2. Machine learning avec python\n",
    "\n",
    "En attendant deux autres retours d'entretiens, j'ai acquis un troisième livre (Deep Learning avec TensorFlow) et je m'apprêtais poursuivre mon apprentissage du deep learning initié il y a plus d'un an à travers la spécialisation deep learning de *deepleraning.ai* sur coursera lorsque je me suis dit que je voulais aller plus loin que la simple lecture du livre et la résolution des exercices proposés.\n",
    "\n",
    "Après quelques minutes de réflexion j'ai assez rapidement trouvé un sujet qui m'occuperait vraiment l'esprit et qui me ferait grandement progresser dans mon métier de data scientist. J'ai décidé de construire un modèle de machine translation pour traduire mon rapport de stage de fin d'étude."
   ]
  },
  {
   "cell_type": "code",
   "execution_count": null,
   "metadata": {},
   "outputs": [],
   "source": []
  }
 ],
 "metadata": {
  "kernelspec": {
   "display_name": "Python 3",
   "language": "python",
   "name": "python3"
  },
  "language_info": {
   "codemirror_mode": {
    "name": "ipython",
    "version": 3
   },
   "file_extension": ".py",
   "mimetype": "text/x-python",
   "name": "python",
   "nbconvert_exporter": "python",
   "pygments_lexer": "ipython3",
   "version": "3.7.1"
  }
 },
 "nbformat": 4,
 "nbformat_minor": 2
}
